{
  "nbformat": 4,
  "nbformat_minor": 0,
  "metadata": {
    "colab": {
      "name": "data_engineering.ipynb",
      "provenance": [],
      "collapsed_sections": []
    },
    "kernelspec": {
      "name": "python3",
      "display_name": "Python 3"
    },
    "language_info": {
      "name": "python"
    }
  },
  "cells": [
    {
      "cell_type": "code",
      "execution_count": 49,
      "metadata": {
        "colab": {
          "base_uri": "https://localhost:8080/"
        },
        "id": "1d9ha8KYypKt",
        "outputId": "eb8d8e8e-9d87-4bcc-f567-c1f654a8f495"
      },
      "outputs": [
        {
          "output_type": "stream",
          "name": "stdout",
          "text": [
            "Looking in indexes: https://pypi.org/simple, https://us-python.pkg.dev/colab-wheels/public/simple/\n",
            "Requirement already satisfied: pyspark in /usr/local/lib/python3.7/dist-packages (3.3.0)\n",
            "Requirement already satisfied: py4j==0.10.9.5 in /usr/local/lib/python3.7/dist-packages (from pyspark) (0.10.9.5)\n"
          ]
        }
      ],
      "source": [
        "pip install pyspark\n"
      ]
    },
    {
      "cell_type": "code",
      "source": [
        "from pyspark.sql import SparkSession,types\n",
        "spark=SparkSession.builder.master(\"local\").appName('Json File').getOrCreate()\n",
        "df=spark.read.json('donation_np.json').limit(10)\n",
        "df.printSchema()\n",
        "df.show(5)"
      ],
      "metadata": {
        "colab": {
          "base_uri": "https://localhost:8080/"
        },
        "id": "_AtXXIFsy8zi",
        "outputId": "651fdfd5-ced3-458f-ae22-74236626fc02"
      },
      "execution_count": 50,
      "outputs": [
        {
          "output_type": "stream",
          "name": "stdout",
          "text": [
            "root\n",
            " |-- Address: string (nullable = true)\n",
            " |-- Amount: string (nullable = true)\n",
            " |-- Contribution Mode: string (nullable = true)\n",
            " |-- Financial Year: string (nullable = true)\n",
            " |-- Name: string (nullable = true)\n",
            " |-- PAN Given: string (nullable = true)\n",
            " |-- Party: string (nullable = true)\n",
            " |-- Type: string (nullable = true)\n",
            " |-- _corrupt_record: string (nullable = true)\n",
            " |-- field10: string (nullable = true)\n",
            " |-- field11: string (nullable = true)\n",
            " |-- field12: string (nullable = true)\n",
            " |-- field13: string (nullable = true)\n",
            " |-- field14: string (nullable = true)\n",
            " |-- field9: string (nullable = true)\n",
            "\n",
            "+--------------------+--------+--------------------+--------------+-------------------+---------+------+------+---------------+-------+-------+-------+-------+-------+------+\n",
            "|             Address|  Amount|   Contribution Mode|Financial Year|               Name|PAN Given| Party|  Type|_corrupt_record|field10|field11|field12|field13|field14|field9|\n",
            "+--------------------+--------+--------------------+--------------+-------------------+---------+------+------+---------------+-------+-------+-------+-------+-------+------+\n",
            "|                null|    null|                null|          null|               null|     null|  null|  null|              [|   null|   null|   null|   null|   null|  null|\n",
            "|16-B, Ferozeshah ...| 3000000|                CASH|       2010-11|         Aziz Pasha|        Y|   CPI|Others|           null|       |       |       |       |       |      |\n",
            "|No.1, First Floor...|10000000|000037, HDFC Bank...|       2014-15|   V K Ramachandran|        Y|CPI(M)|Others|           null|       |       |       |       |       |      |\n",
            "|3, Motilal Nehru ...|  108000|Cheque, State Ban...|       2014-15| Dr. Manmohan Singh|        N|   INC|Others|           null|       |       |       |       |       |      |\n",
            "|9,Firozshah Road ...|   54000|Through Bank Tran...|       2011-12|Dr. Manda Jagnathan|        N|   INC|Others|           null|       |       |       |       |       |      |\n",
            "+--------------------+--------+--------------------+--------------+-------------------+---------+------+------+---------------+-------+-------+-------+-------+-------+------+\n",
            "only showing top 5 rows\n",
            "\n"
          ]
        }
      ]
    },
    {
      "cell_type": "code",
      "source": [
        "from functools import reduce\n",
        "oldColumns = [\"Contribution Mode\",\"Financial Year\",\"PAN Given\"]\n",
        "newColumns = [\"mode_of_payment\",\"fin_year\",\"pan_given\"]\n",
        "\n",
        "df = reduce(lambda data, idx: data.withColumnRenamed(oldColumns[idx], newColumns[idx]), range(len(oldColumns)), df)\n",
        "df.printSchema()\n",
        "df.show(5)"
      ],
      "metadata": {
        "colab": {
          "base_uri": "https://localhost:8080/"
        },
        "id": "zUUr0NgUzHbZ",
        "outputId": "bce7777a-2d5d-411f-df61-1b6caeb6e5e4"
      },
      "execution_count": 51,
      "outputs": [
        {
          "output_type": "stream",
          "name": "stdout",
          "text": [
            "root\n",
            " |-- Address: string (nullable = true)\n",
            " |-- Amount: string (nullable = true)\n",
            " |-- mode_of_payment: string (nullable = true)\n",
            " |-- fin_year: string (nullable = true)\n",
            " |-- Name: string (nullable = true)\n",
            " |-- pan_given: string (nullable = true)\n",
            " |-- Party: string (nullable = true)\n",
            " |-- Type: string (nullable = true)\n",
            " |-- _corrupt_record: string (nullable = true)\n",
            " |-- field10: string (nullable = true)\n",
            " |-- field11: string (nullable = true)\n",
            " |-- field12: string (nullable = true)\n",
            " |-- field13: string (nullable = true)\n",
            " |-- field14: string (nullable = true)\n",
            " |-- field9: string (nullable = true)\n",
            "\n",
            "+--------------------+--------+--------------------+--------+-------------------+---------+------+------+---------------+-------+-------+-------+-------+-------+------+\n",
            "|             Address|  Amount|     mode_of_payment|fin_year|               Name|pan_given| Party|  Type|_corrupt_record|field10|field11|field12|field13|field14|field9|\n",
            "+--------------------+--------+--------------------+--------+-------------------+---------+------+------+---------------+-------+-------+-------+-------+-------+------+\n",
            "|                null|    null|                null|    null|               null|     null|  null|  null|              [|   null|   null|   null|   null|   null|  null|\n",
            "|16-B, Ferozeshah ...| 3000000|                CASH| 2010-11|         Aziz Pasha|        Y|   CPI|Others|           null|       |       |       |       |       |      |\n",
            "|No.1, First Floor...|10000000|000037, HDFC Bank...| 2014-15|   V K Ramachandran|        Y|CPI(M)|Others|           null|       |       |       |       |       |      |\n",
            "|3, Motilal Nehru ...|  108000|Cheque, State Ban...| 2014-15| Dr. Manmohan Singh|        N|   INC|Others|           null|       |       |       |       |       |      |\n",
            "|9,Firozshah Road ...|   54000|Through Bank Tran...| 2011-12|Dr. Manda Jagnathan|        N|   INC|Others|           null|       |       |       |       |       |      |\n",
            "+--------------------+--------+--------------------+--------+-------------------+---------+------+------+---------------+-------+-------+-------+-------+-------+------+\n",
            "only showing top 5 rows\n",
            "\n"
          ]
        }
      ]
    },
    {
      "cell_type": "code",
      "source": [
        "from pyspark.sql.functions import sha2,concat_ws\n",
        "df=df.withColumn(\"Address\", sha2(concat_ws(\"||\", df.Address), 256))"
      ],
      "metadata": {
        "id": "SDsy_ARezLy9"
      },
      "execution_count": 52,
      "outputs": []
    },
    {
      "cell_type": "code",
      "source": [
        "from pyspark.sql.functions import *\n",
        "\n",
        "import re\n",
        "\n",
        "df = df.withColumn(\"mode_of_payment\", when(lower(df.mode_of_payment).contains(\"cheque\"),\"Cheque\") \\\n",
        "\n",
        "      .when(lower(df.mode_of_payment).rlike(\"(\\d{5,6})\"),\"Cheque\") \\\n",
        "\n",
        "      .when(lower(df.mode_of_payment).contains(\"ch no\"),\"Cheque\") \\\n",
        "\n",
        "      .when(lower(df.mode_of_payment).contains(\"cheque no\"),\"Cheque\") \\\n",
        "\n",
        "      .when(lower(df.mode_of_payment).contains(\"cash\"),\"Cash\") \\\n",
        "\n",
        "      .when(lower(df.mode_of_payment).contains(\"bank\"),\"Bank\") \\\n",
        "\n",
        "      .otherwise(\"Others\"))\n",
        "df.show()"
      ],
      "metadata": {
        "colab": {
          "base_uri": "https://localhost:8080/"
        },
        "id": "bwXMV6ZwzTI9",
        "outputId": "087da479-cc25-487b-93ff-71d6d15ef5c0"
      },
      "execution_count": 53,
      "outputs": [
        {
          "output_type": "stream",
          "name": "stdout",
          "text": [
            "+--------------------+--------+---------------+--------+--------------------+---------+------+------+---------------+-------+-------+-------+-------+-------+------+\n",
            "|             Address|  Amount|mode_of_payment|fin_year|                Name|pan_given| Party|  Type|_corrupt_record|field10|field11|field12|field13|field14|field9|\n",
            "+--------------------+--------+---------------+--------+--------------------+---------+------+------+---------------+-------+-------+-------+-------+-------+------+\n",
            "|e3b0c44298fc1c149...|    null|         Others|    null|                null|     null|  null|  null|              [|   null|   null|   null|   null|   null|  null|\n",
            "|5a3058deb6f337958...| 3000000|           Cash| 2010-11|          Aziz Pasha|        Y|   CPI|Others|           null|       |       |       |       |       |      |\n",
            "|846539cb21bc9e6c6...|10000000|         Cheque| 2014-15|    V K Ramachandran|        Y|CPI(M)|Others|           null|       |       |       |       |       |      |\n",
            "|869fa3a19f1c51ad1...|  108000|         Cheque| 2014-15|  Dr. Manmohan Singh|        N|   INC|Others|           null|       |       |       |       |       |      |\n",
            "|5f04f40130569ddab...|   54000|           Bank| 2011-12| Dr. Manda Jagnathan|        N|   INC|Others|           null|       |       |       |       |       |      |\n",
            "|524b1379d08e4c02f...|   54000|           Bank| 2011-12|    Prof. K.V.Thomas|        N|   INC|Others|           null|       |       |       |       |       |      |\n",
            "|6db7af0c5dca3b333...|  100000|         Cheque| 2011-12|     Sweta Chyouksey|        Y|   BJP|Others|           null|       |       |       |       |       |      |\n",
            "|c01158e07376c3778...|  100000|         Cheque| 2011-12|   Uma Shankar Gupta|        N|   BJP|Others|           null|       |       |       |       |       |      |\n",
            "|d8156bae0c4243d37...|   25000|         Cheque| 2013-14|Parshwanath Bhakt...|        N|   BJP|Others|           null|       |       |       |       |       |      |\n",
            "|15c64efe58b209e20...|  100000|         Cheque| 2011-12|Anand Constructio...|        Y|   BJP|Others|           null|       |       |       |       |       |      |\n",
            "+--------------------+--------+---------------+--------+--------------------+---------+------+------+---------------+-------+-------+-------+-------+-------+------+\n",
            "\n"
          ]
        }
      ]
    },
    {
      "cell_type": "code",
      "source": [
        "from pyspark.sql.functions import col\n",
        "df=df.drop('_corrupt_record','field10','field11','field12','field13','field14','field9')"
      ],
      "metadata": {
        "id": "R2lLuljN2bPb"
      },
      "execution_count": 54,
      "outputs": []
    },
    {
      "cell_type": "code",
      "source": [
        "df = df.where(col('Amount').isNotNull())\n",
        "df.show()"
      ],
      "metadata": {
        "colab": {
          "base_uri": "https://localhost:8080/"
        },
        "id": "4k_zsjis4sis",
        "outputId": "2b295934-f543-4fbc-ee36-40efadc37efb"
      },
      "execution_count": 55,
      "outputs": [
        {
          "output_type": "stream",
          "name": "stdout",
          "text": [
            "+--------------------+--------+---------------+--------+--------------------+---------+------+------+\n",
            "|             Address|  Amount|mode_of_payment|fin_year|                Name|pan_given| Party|  Type|\n",
            "+--------------------+--------+---------------+--------+--------------------+---------+------+------+\n",
            "|5a3058deb6f337958...| 3000000|           Cash| 2010-11|          Aziz Pasha|        Y|   CPI|Others|\n",
            "|846539cb21bc9e6c6...|10000000|         Cheque| 2014-15|    V K Ramachandran|        Y|CPI(M)|Others|\n",
            "|869fa3a19f1c51ad1...|  108000|         Cheque| 2014-15|  Dr. Manmohan Singh|        N|   INC|Others|\n",
            "|5f04f40130569ddab...|   54000|           Bank| 2011-12| Dr. Manda Jagnathan|        N|   INC|Others|\n",
            "|524b1379d08e4c02f...|   54000|           Bank| 2011-12|    Prof. K.V.Thomas|        N|   INC|Others|\n",
            "|6db7af0c5dca3b333...|  100000|         Cheque| 2011-12|     Sweta Chyouksey|        Y|   BJP|Others|\n",
            "|c01158e07376c3778...|  100000|         Cheque| 2011-12|   Uma Shankar Gupta|        N|   BJP|Others|\n",
            "|d8156bae0c4243d37...|   25000|         Cheque| 2013-14|Parshwanath Bhakt...|        N|   BJP|Others|\n",
            "|15c64efe58b209e20...|  100000|         Cheque| 2011-12|Anand Constructio...|        Y|   BJP|Others|\n",
            "+--------------------+--------+---------------+--------+--------------------+---------+------+------+\n",
            "\n"
          ]
        }
      ]
    },
    {
      "cell_type": "code",
      "source": [
        "from pyspark.sql.types import IntegerType\n",
        "df = df.withColumn(\"Amount\",df[\"Amount\"].cast(IntegerType()))"
      ],
      "metadata": {
        "id": "9xnLjJxP6wvG"
      },
      "execution_count": 56,
      "outputs": []
    },
    {
      "cell_type": "code",
      "source": [
        "type(df)"
      ],
      "metadata": {
        "colab": {
          "base_uri": "https://localhost:8080/"
        },
        "id": "H8SPKdlT8S7i",
        "outputId": "46b96520-e6e1-442e-d0ba-314045a23d0d"
      },
      "execution_count": 57,
      "outputs": [
        {
          "output_type": "execute_result",
          "data": {
            "text/plain": [
              "pyspark.sql.dataframe.DataFrame"
            ]
          },
          "metadata": {},
          "execution_count": 57
        }
      ]
    },
    {
      "cell_type": "code",
      "source": [
        "for i in df.groupBy(\"Party\").sum(\"Amount\").collect():\n",
        "  party,amt=i['Party'],i['sum(Amount)']\n",
        "  df=df.withColumn(party+\"_SUM_LTD\", when(df.Party.contains(party),amt).otherwise(0))\n",
        "df.show()"
      ],
      "metadata": {
        "colab": {
          "base_uri": "https://localhost:8080/"
        },
        "id": "a1goLzkF3417",
        "outputId": "6908a4bc-5a76-4762-8bb8-5589364c9fc7"
      },
      "execution_count": 68,
      "outputs": [
        {
          "output_type": "stream",
          "name": "stdout",
          "text": [
            "+--------------------+--------+---------------+--------+--------------------+---------+------+------+-----------+--------------+-----------+-----------+\n",
            "|             Address|  Amount|mode_of_payment|fin_year|                Name|pan_given| Party|  Type|CPI_SUM_LTD|CPI(M)_SUM_LTD|INC_SUM_LTD|BJP_SUM_LTD|\n",
            "+--------------------+--------+---------------+--------+--------------------+---------+------+------+-----------+--------------+-----------+-----------+\n",
            "|5a3058deb6f337958...| 3000000|           Cash| 2010-11|          Aziz Pasha|        Y|   CPI|Others|    3000000|             0|          0|          0|\n",
            "|846539cb21bc9e6c6...|10000000|         Cheque| 2014-15|    V K Ramachandran|        Y|CPI(M)|Others|    3000000|      10000000|          0|          0|\n",
            "|869fa3a19f1c51ad1...|  108000|         Cheque| 2014-15|  Dr. Manmohan Singh|        N|   INC|Others|          0|             0|     216000|          0|\n",
            "|5f04f40130569ddab...|   54000|           Bank| 2011-12| Dr. Manda Jagnathan|        N|   INC|Others|          0|             0|     216000|          0|\n",
            "|524b1379d08e4c02f...|   54000|           Bank| 2011-12|    Prof. K.V.Thomas|        N|   INC|Others|          0|             0|     216000|          0|\n",
            "|6db7af0c5dca3b333...|  100000|         Cheque| 2011-12|     Sweta Chyouksey|        Y|   BJP|Others|          0|             0|          0|     325000|\n",
            "|c01158e07376c3778...|  100000|         Cheque| 2011-12|   Uma Shankar Gupta|        N|   BJP|Others|          0|             0|          0|     325000|\n",
            "|d8156bae0c4243d37...|   25000|         Cheque| 2013-14|Parshwanath Bhakt...|        N|   BJP|Others|          0|             0|          0|     325000|\n",
            "|15c64efe58b209e20...|  100000|         Cheque| 2011-12|Anand Constructio...|        Y|   BJP|Others|          0|             0|          0|     325000|\n",
            "+--------------------+--------+---------------+--------+--------------------+---------+------+------+-----------+--------------+-----------+-----------+\n",
            "\n"
          ]
        }
      ]
    },
    {
      "cell_type": "code",
      "source": [
        "for i in df.groupby('Party').agg(count('Party')).collect():\n",
        "  party,cnt=i['Party'],i['count(Party)']\n",
        "  df=df.withColumn(party+\"_COUNT_LTD\", when(df.Party.contains(party),cnt).otherwise(0))\n",
        "df.show()"
      ],
      "metadata": {
        "colab": {
          "base_uri": "https://localhost:8080/"
        },
        "id": "9Q0glwt7AEva",
        "outputId": "43120f5a-80f7-4a8c-8285-847f8425734a"
      },
      "execution_count": 72,
      "outputs": [
        {
          "output_type": "stream",
          "name": "stdout",
          "text": [
            "+--------------------+--------+---------------+--------+--------------------+---------+------+------+-----------+--------------+-----------+-----------+-------------+----------------+-------------+-------------+\n",
            "|             Address|  Amount|mode_of_payment|fin_year|                Name|pan_given| Party|  Type|CPI_SUM_LTD|CPI(M)_SUM_LTD|INC_SUM_LTD|BJP_SUM_LTD|CPI_COUNT_LTD|CPI(M)_COUNT_LTD|INC_COUNT_LTD|BJP_COUNT_LTD|\n",
            "+--------------------+--------+---------------+--------+--------------------+---------+------+------+-----------+--------------+-----------+-----------+-------------+----------------+-------------+-------------+\n",
            "|5a3058deb6f337958...| 3000000|           Cash| 2010-11|          Aziz Pasha|        Y|   CPI|Others|    3000000|             0|          0|          0|            1|               0|            0|            0|\n",
            "|846539cb21bc9e6c6...|10000000|         Cheque| 2014-15|    V K Ramachandran|        Y|CPI(M)|Others|    3000000|      10000000|          0|          0|            1|               1|            0|            0|\n",
            "|869fa3a19f1c51ad1...|  108000|         Cheque| 2014-15|  Dr. Manmohan Singh|        N|   INC|Others|          0|             0|     216000|          0|            0|               0|            3|            0|\n",
            "|5f04f40130569ddab...|   54000|           Bank| 2011-12| Dr. Manda Jagnathan|        N|   INC|Others|          0|             0|     216000|          0|            0|               0|            3|            0|\n",
            "|524b1379d08e4c02f...|   54000|           Bank| 2011-12|    Prof. K.V.Thomas|        N|   INC|Others|          0|             0|     216000|          0|            0|               0|            3|            0|\n",
            "|6db7af0c5dca3b333...|  100000|         Cheque| 2011-12|     Sweta Chyouksey|        Y|   BJP|Others|          0|             0|          0|     325000|            0|               0|            0|            4|\n",
            "|c01158e07376c3778...|  100000|         Cheque| 2011-12|   Uma Shankar Gupta|        N|   BJP|Others|          0|             0|          0|     325000|            0|               0|            0|            4|\n",
            "|d8156bae0c4243d37...|   25000|         Cheque| 2013-14|Parshwanath Bhakt...|        N|   BJP|Others|          0|             0|          0|     325000|            0|               0|            0|            4|\n",
            "|15c64efe58b209e20...|  100000|         Cheque| 2011-12|Anand Constructio...|        Y|   BJP|Others|          0|             0|          0|     325000|            0|               0|            0|            4|\n",
            "+--------------------+--------+---------------+--------+--------------------+---------+------+------+-----------+--------------+-----------+-----------+-------------+----------------+-------------+-------------+\n",
            "\n"
          ]
        }
      ]
    },
    {
      "cell_type": "code",
      "source": [
        "for i in df.groupby('Party').agg(avg('Amount')).collect():\n",
        "  party,avgg=i['Party'],i['avg(Amount)']\n",
        "  df=df.withColumn(party+\"_AVG_LTD\", when(df.Party.contains(party),avgg).otherwise(0))\n",
        "df.show()\n"
      ],
      "metadata": {
        "colab": {
          "base_uri": "https://localhost:8080/"
        },
        "id": "7p75vm-THnhS",
        "outputId": "a0ca4c59-3101-43c0-f226-bf6260f728f5"
      },
      "execution_count": 87,
      "outputs": [
        {
          "output_type": "stream",
          "name": "stdout",
          "text": [
            "+--------------------+--------+---------------+--------+--------------------+---------+------+------+-----------+--------------+-----------+-----------+-------------+----------------+-------------+-------------+-----------+--------------+-----------+-----------+\n",
            "|             Address|  Amount|mode_of_payment|fin_year|                Name|pan_given| Party|  Type|CPI_SUM_LTD|CPI(M)_SUM_LTD|INC_SUM_LTD|BJP_SUM_LTD|CPI_COUNT_LTD|CPI(M)_COUNT_LTD|INC_COUNT_LTD|BJP_COUNT_LTD|CPI_AVG_LTD|CPI(M)_AVG_LTD|INC_AVG_LTD|BJP_AVG_LTD|\n",
            "+--------------------+--------+---------------+--------+--------------------+---------+------+------+-----------+--------------+-----------+-----------+-------------+----------------+-------------+-------------+-----------+--------------+-----------+-----------+\n",
            "|5a3058deb6f337958...| 3000000|           Cash| 2010-11|          Aziz Pasha|        Y|   CPI|Others|    3000000|             0|          0|          0|            1|               0|            0|            0|  3000000.0|           0.0|        0.0|        0.0|\n",
            "|846539cb21bc9e6c6...|10000000|         Cheque| 2014-15|    V K Ramachandran|        Y|CPI(M)|Others|    3000000|      10000000|          0|          0|            1|               1|            0|            0|  3000000.0|         1.0E7|        0.0|        0.0|\n",
            "|869fa3a19f1c51ad1...|  108000|         Cheque| 2014-15|  Dr. Manmohan Singh|        N|   INC|Others|          0|             0|     216000|          0|            0|               0|            3|            0|        0.0|           0.0|    72000.0|        0.0|\n",
            "|5f04f40130569ddab...|   54000|           Bank| 2011-12| Dr. Manda Jagnathan|        N|   INC|Others|          0|             0|     216000|          0|            0|               0|            3|            0|        0.0|           0.0|    72000.0|        0.0|\n",
            "|524b1379d08e4c02f...|   54000|           Bank| 2011-12|    Prof. K.V.Thomas|        N|   INC|Others|          0|             0|     216000|          0|            0|               0|            3|            0|        0.0|           0.0|    72000.0|        0.0|\n",
            "|6db7af0c5dca3b333...|  100000|         Cheque| 2011-12|     Sweta Chyouksey|        Y|   BJP|Others|          0|             0|          0|     325000|            0|               0|            0|            4|        0.0|           0.0|        0.0|    81250.0|\n",
            "|c01158e07376c3778...|  100000|         Cheque| 2011-12|   Uma Shankar Gupta|        N|   BJP|Others|          0|             0|          0|     325000|            0|               0|            0|            4|        0.0|           0.0|        0.0|    81250.0|\n",
            "|d8156bae0c4243d37...|   25000|         Cheque| 2013-14|Parshwanath Bhakt...|        N|   BJP|Others|          0|             0|          0|     325000|            0|               0|            0|            4|        0.0|           0.0|        0.0|    81250.0|\n",
            "|15c64efe58b209e20...|  100000|         Cheque| 2011-12|Anand Constructio...|        Y|   BJP|Others|          0|             0|          0|     325000|            0|               0|            0|            4|        0.0|           0.0|        0.0|    81250.0|\n",
            "+--------------------+--------+---------------+--------+--------------------+---------+------+------+-----------+--------------+-----------+-----------+-------------+----------------+-------------+-------------+-----------+--------------+-----------+-----------+\n",
            "\n"
          ]
        }
      ]
    },
    {
      "cell_type": "code",
      "source": [
        "for i in df.groupby('Party').agg(max('Amount')).collect():\n",
        "  party,max=i['Party'],i['max(Amount)']\n",
        "  df=df.withColumn(party+\"_MAX_LTD\", when(df.Party.contains(party),max).otherwise(0))\n",
        "df.show()"
      ],
      "metadata": {
        "colab": {
          "base_uri": "https://localhost:8080/"
        },
        "id": "HS2MZOufJZ8Q",
        "outputId": "24dfad07-44d4-4243-fe2c-0f7a77ac0e9c"
      },
      "execution_count": 88,
      "outputs": [
        {
          "output_type": "stream",
          "name": "stdout",
          "text": [
            "+--------------------+--------+---------------+--------+--------------------+---------+------+------+-----------+--------------+-----------+-----------+-------------+----------------+-------------+-------------+-----------+--------------+-----------+-----------+-----------+--------------+-----------+-----------+\n",
            "|             Address|  Amount|mode_of_payment|fin_year|                Name|pan_given| Party|  Type|CPI_SUM_LTD|CPI(M)_SUM_LTD|INC_SUM_LTD|BJP_SUM_LTD|CPI_COUNT_LTD|CPI(M)_COUNT_LTD|INC_COUNT_LTD|BJP_COUNT_LTD|CPI_AVG_LTD|CPI(M)_AVG_LTD|INC_AVG_LTD|BJP_AVG_LTD|CPI_MAX_LTD|CPI(M)_MAX_LTD|INC_MAX_LTD|BJP_MAX_LTD|\n",
            "+--------------------+--------+---------------+--------+--------------------+---------+------+------+-----------+--------------+-----------+-----------+-------------+----------------+-------------+-------------+-----------+--------------+-----------+-----------+-----------+--------------+-----------+-----------+\n",
            "|5a3058deb6f337958...| 3000000|           Cash| 2010-11|          Aziz Pasha|        Y|   CPI|Others|    3000000|             0|          0|          0|            1|               0|            0|            0|  3000000.0|           0.0|        0.0|        0.0|    3000000|             0|          0|          0|\n",
            "|846539cb21bc9e6c6...|10000000|         Cheque| 2014-15|    V K Ramachandran|        Y|CPI(M)|Others|    3000000|      10000000|          0|          0|            1|               1|            0|            0|  3000000.0|         1.0E7|        0.0|        0.0|    3000000|      10000000|          0|          0|\n",
            "|869fa3a19f1c51ad1...|  108000|         Cheque| 2014-15|  Dr. Manmohan Singh|        N|   INC|Others|          0|             0|     216000|          0|            0|               0|            3|            0|        0.0|           0.0|    72000.0|        0.0|          0|             0|     108000|          0|\n",
            "|5f04f40130569ddab...|   54000|           Bank| 2011-12| Dr. Manda Jagnathan|        N|   INC|Others|          0|             0|     216000|          0|            0|               0|            3|            0|        0.0|           0.0|    72000.0|        0.0|          0|             0|     108000|          0|\n",
            "|524b1379d08e4c02f...|   54000|           Bank| 2011-12|    Prof. K.V.Thomas|        N|   INC|Others|          0|             0|     216000|          0|            0|               0|            3|            0|        0.0|           0.0|    72000.0|        0.0|          0|             0|     108000|          0|\n",
            "|6db7af0c5dca3b333...|  100000|         Cheque| 2011-12|     Sweta Chyouksey|        Y|   BJP|Others|          0|             0|          0|     325000|            0|               0|            0|            4|        0.0|           0.0|        0.0|    81250.0|          0|             0|          0|     100000|\n",
            "|c01158e07376c3778...|  100000|         Cheque| 2011-12|   Uma Shankar Gupta|        N|   BJP|Others|          0|             0|          0|     325000|            0|               0|            0|            4|        0.0|           0.0|        0.0|    81250.0|          0|             0|          0|     100000|\n",
            "|d8156bae0c4243d37...|   25000|         Cheque| 2013-14|Parshwanath Bhakt...|        N|   BJP|Others|          0|             0|          0|     325000|            0|               0|            0|            4|        0.0|           0.0|        0.0|    81250.0|          0|             0|          0|     100000|\n",
            "|15c64efe58b209e20...|  100000|         Cheque| 2011-12|Anand Constructio...|        Y|   BJP|Others|          0|             0|          0|     325000|            0|               0|            0|            4|        0.0|           0.0|        0.0|    81250.0|          0|             0|          0|     100000|\n",
            "+--------------------+--------+---------------+--------+--------------------+---------+------+------+-----------+--------------+-----------+-----------+-------------+----------------+-------------+-------------+-----------+--------------+-----------+-----------+-----------+--------------+-----------+-----------+\n",
            "\n"
          ]
        }
      ]
    },
    {
      "cell_type": "code",
      "source": [
        "for i in df.groupby(['Party','fin_year']).agg(sum('Amount')).collect():\n",
        "  party,sum,yr=i['Party'],i['sum(Amount)'],i['fin_year']\n",
        "  df=df.withColumn(yr+'_'+party+\"_SUM\", when(df.Party.contains(party),sum).otherwise(0))\n",
        "df.show()\n"
      ],
      "metadata": {
        "colab": {
          "base_uri": "https://localhost:8080/"
        },
        "id": "8xQ-D5LON5Ze",
        "outputId": "43f94771-ad18-41f3-b076-32297f6db942"
      },
      "execution_count": 94,
      "outputs": [
        {
          "output_type": "stream",
          "name": "stdout",
          "text": [
            "+--------------------+--------+---------------+--------+--------------------+---------+------+------+-----------+--------------+-----------+-----------+-------------+----------------+-------------+-------------+-----------+--------------+-----------+-----------+-----------+--------------+-----------+-----------+---------------+------------------+---------------+---------------+---------------+---------------+\n",
            "|             Address|  Amount|mode_of_payment|fin_year|                Name|pan_given| Party|  Type|CPI_SUM_LTD|CPI(M)_SUM_LTD|INC_SUM_LTD|BJP_SUM_LTD|CPI_COUNT_LTD|CPI(M)_COUNT_LTD|INC_COUNT_LTD|BJP_COUNT_LTD|CPI_AVG_LTD|CPI(M)_AVG_LTD|INC_AVG_LTD|BJP_AVG_LTD|CPI_MAX_LTD|CPI(M)_MAX_LTD|INC_MAX_LTD|BJP_MAX_LTD|2010-11_CPI_SUM|2014-15_CPI(M)_SUM|2014-15_INC_SUM|2011-12_INC_SUM|2011-12_BJP_SUM|2013-14_BJP_SUM|\n",
            "+--------------------+--------+---------------+--------+--------------------+---------+------+------+-----------+--------------+-----------+-----------+-------------+----------------+-------------+-------------+-----------+--------------+-----------+-----------+-----------+--------------+-----------+-----------+---------------+------------------+---------------+---------------+---------------+---------------+\n",
            "|5a3058deb6f337958...| 3000000|           Cash| 2010-11|          Aziz Pasha|        Y|   CPI|Others|    3000000|             0|          0|          0|            1|               0|            0|            0|  3000000.0|           0.0|        0.0|        0.0|    3000000|             0|          0|          0|        3000000|                 0|              0|              0|              0|              0|\n",
            "|846539cb21bc9e6c6...|10000000|         Cheque| 2014-15|    V K Ramachandran|        Y|CPI(M)|Others|    3000000|      10000000|          0|          0|            1|               1|            0|            0|  3000000.0|         1.0E7|        0.0|        0.0|    3000000|      10000000|          0|          0|        3000000|          10000000|              0|              0|              0|              0|\n",
            "|869fa3a19f1c51ad1...|  108000|         Cheque| 2014-15|  Dr. Manmohan Singh|        N|   INC|Others|          0|             0|     216000|          0|            0|               0|            3|            0|        0.0|           0.0|    72000.0|        0.0|          0|             0|     108000|          0|              0|                 0|         108000|         108000|              0|              0|\n",
            "|5f04f40130569ddab...|   54000|           Bank| 2011-12| Dr. Manda Jagnathan|        N|   INC|Others|          0|             0|     216000|          0|            0|               0|            3|            0|        0.0|           0.0|    72000.0|        0.0|          0|             0|     108000|          0|              0|                 0|         108000|         108000|              0|              0|\n",
            "|524b1379d08e4c02f...|   54000|           Bank| 2011-12|    Prof. K.V.Thomas|        N|   INC|Others|          0|             0|     216000|          0|            0|               0|            3|            0|        0.0|           0.0|    72000.0|        0.0|          0|             0|     108000|          0|              0|                 0|         108000|         108000|              0|              0|\n",
            "|6db7af0c5dca3b333...|  100000|         Cheque| 2011-12|     Sweta Chyouksey|        Y|   BJP|Others|          0|             0|          0|     325000|            0|               0|            0|            4|        0.0|           0.0|        0.0|    81250.0|          0|             0|          0|     100000|              0|                 0|              0|              0|         300000|          25000|\n",
            "|c01158e07376c3778...|  100000|         Cheque| 2011-12|   Uma Shankar Gupta|        N|   BJP|Others|          0|             0|          0|     325000|            0|               0|            0|            4|        0.0|           0.0|        0.0|    81250.0|          0|             0|          0|     100000|              0|                 0|              0|              0|         300000|          25000|\n",
            "|d8156bae0c4243d37...|   25000|         Cheque| 2013-14|Parshwanath Bhakt...|        N|   BJP|Others|          0|             0|          0|     325000|            0|               0|            0|            4|        0.0|           0.0|        0.0|    81250.0|          0|             0|          0|     100000|              0|                 0|              0|              0|         300000|          25000|\n",
            "|15c64efe58b209e20...|  100000|         Cheque| 2011-12|Anand Constructio...|        Y|   BJP|Others|          0|             0|          0|     325000|            0|               0|            0|            4|        0.0|           0.0|        0.0|    81250.0|          0|             0|          0|     100000|              0|                 0|              0|              0|         300000|          25000|\n",
            "+--------------------+--------+---------------+--------+--------------------+---------+------+------+-----------+--------------+-----------+-----------+-------------+----------------+-------------+-------------+-----------+--------------+-----------+-----------+-----------+--------------+-----------+-----------+---------------+------------------+---------------+---------------+---------------+---------------+\n",
            "\n"
          ]
        }
      ]
    },
    {
      "cell_type": "code",
      "source": [
        "for i in df.groupby(['mode_of_payment']).agg(count('mode_of_payment')).collect():\n",
        "  party,sum=i['mode_of_payment'],i['count(mode_of_payment)']\n",
        "  df=df.withColumn(party+\"_count_LTD\", when(df.mode_of_payment.contains(party),sum).otherwise(0))\n",
        "df.show()"
      ],
      "metadata": {
        "colab": {
          "base_uri": "https://localhost:8080/"
        },
        "id": "SWyg7k46NbTw",
        "outputId": "ee2a6e73-5849-4801-a32c-c8ec31fec1d8"
      },
      "execution_count": 126,
      "outputs": [
        {
          "output_type": "stream",
          "name": "stdout",
          "text": [
            "+--------------------+--------+---------------+--------+------------------+---------+------+------+-----------+--------------+-----------+-----------+-------------+----------------+-------------+-------------+-----------+--------------+-----------+-----------+-----------+--------------+-----------+-----------+---------------+------------------+---------------+---------------+---------------+---------------+--------------+----------------+--------------+----------+\n",
            "|             Address|  Amount|mode_of_payment|fin_year|              Name|pan_given| Party|  Type|CPI_SUM_LTD|CPI(M)_SUM_LTD|INC_SUM_LTD|BJP_SUM_LTD|CPI_COUNT_LTD|CPI(M)_COUNT_LTD|INC_COUNT_LTD|BJP_COUNT_LTD|CPI_AVG_LTD|CPI(M)_AVG_LTD|INC_AVG_LTD|BJP_AVG_LTD|CPI_MAX_LTD|CPI(M)_MAX_LTD|INC_MAX_LTD|BJP_MAX_LTD|2010-11_CPI_SUM|2014-15_CPI(M)_SUM|2014-15_INC_SUM|2011-12_INC_SUM|2011-12_BJP_SUM|2013-14_BJP_SUM|Cash_count_LTD|Cheque_count_LTD|Bank_count_LTD|row_number|\n",
            "+--------------------+--------+---------------+--------+------------------+---------+------+------+-----------+--------------+-----------+-----------+-------------+----------------+-------------+-------------+-----------+--------------+-----------+-----------+-----------+--------------+-----------+-----------+---------------+------------------+---------------+---------------+---------------+---------------+--------------+----------------+--------------+----------+\n",
            "|6db7af0c5dca3b333...|  100000|         Cheque| 2011-12|   Sweta Chyouksey|        Y|   BJP|Others|          0|             0|          0|     325000|            0|               0|            0|            4|        0.0|           0.0|        0.0|    81250.0|          0|             0|          0|     100000|              0|                 0|              0|              0|         300000|          25000|             0|               3|             0|         1|\n",
            "|5a3058deb6f337958...| 3000000|           Cash| 2010-11|        Aziz Pasha|        Y|   CPI|Others|    3000000|             0|          0|          0|            1|               0|            0|            0|  3000000.0|           0.0|        0.0|        0.0|    3000000|             0|          0|          0|        3000000|                 0|              0|              0|              0|              0|             1|               0|             0|         1|\n",
            "|846539cb21bc9e6c6...|10000000|         Cheque| 2014-15|  V K Ramachandran|        Y|CPI(M)|Others|    3000000|      10000000|          0|          0|            1|               1|            0|            0|  3000000.0|         1.0E7|        0.0|        0.0|    3000000|      10000000|          0|          0|        3000000|          10000000|              0|              0|              0|              0|             0|               3|             0|         1|\n",
            "|869fa3a19f1c51ad1...|  108000|         Cheque| 2014-15|Dr. Manmohan Singh|        N|   INC|Others|          0|             0|     216000|          0|            0|               0|            3|            0|        0.0|           0.0|    72000.0|        0.0|          0|             0|     108000|          0|              0|                 0|         108000|         108000|              0|              0|             0|               3|             0|         1|\n",
            "+--------------------+--------+---------------+--------+------------------+---------+------+------+-----------+--------------+-----------+-----------+-------------+----------------+-------------+-------------+-----------+--------------+-----------+-----------+-----------+--------------+-----------+-----------+---------------+------------------+---------------+---------------+---------------+---------------+--------------+----------------+--------------+----------+\n",
            "\n"
          ]
        }
      ]
    },
    {
      "cell_type": "code",
      "source": [
        "from pyspark.sql.window import Window\n",
        "\n",
        "from pyspark.sql.functions import row_number\n",
        "\n",
        "windowSpec  = Window.partitionBy(\"Party\").orderBy(col(\"Amount\").desc())\n",
        "\n",
        "df=df.withColumn(\"row_number\",row_number().over(windowSpec)).filter(col(\"row_number\").like(\"1\"))\n",
        "\n",
        "top_donor_count=0\n",
        "\n",
        "temp_top_df=df\n",
        "\n",
        "for party_name in df.select('Party').distinct().collect():\n",
        "    party_name=party_name['Party']\n",
        "    top_donor_name=df.collect()[top_donor_count][4]\n",
        "\n",
        "    temp_top_df=temp_top_df.withColumn(party_name+\"_TOP_DONOR\",when(temp_top_df.Party.contains(party_name),top_donor_name).otherwise(\"-\"))\n",
        "\n",
        "    top_donor_count +=1\n",
        "\n"
      ],
      "metadata": {
        "id": "HAWIfXCjTaGp"
      },
      "execution_count": 127,
      "outputs": []
    },
    {
      "cell_type": "code",
      "source": [
        "df.show()\n"
      ],
      "metadata": {
        "colab": {
          "base_uri": "https://localhost:8080/"
        },
        "id": "isLjmJWYbpiF",
        "outputId": "9ddea232-49d3-4f2d-8b72-a70bc0c47be1"
      },
      "execution_count": 128,
      "outputs": [
        {
          "output_type": "stream",
          "name": "stdout",
          "text": [
            "+--------------------+--------+---------------+--------+------------------+---------+------+------+-----------+--------------+-----------+-----------+-------------+----------------+-------------+-------------+-----------+--------------+-----------+-----------+-----------+--------------+-----------+-----------+---------------+------------------+---------------+---------------+---------------+---------------+--------------+----------------+--------------+----------+\n",
            "|             Address|  Amount|mode_of_payment|fin_year|              Name|pan_given| Party|  Type|CPI_SUM_LTD|CPI(M)_SUM_LTD|INC_SUM_LTD|BJP_SUM_LTD|CPI_COUNT_LTD|CPI(M)_COUNT_LTD|INC_COUNT_LTD|BJP_COUNT_LTD|CPI_AVG_LTD|CPI(M)_AVG_LTD|INC_AVG_LTD|BJP_AVG_LTD|CPI_MAX_LTD|CPI(M)_MAX_LTD|INC_MAX_LTD|BJP_MAX_LTD|2010-11_CPI_SUM|2014-15_CPI(M)_SUM|2014-15_INC_SUM|2011-12_INC_SUM|2011-12_BJP_SUM|2013-14_BJP_SUM|Cash_count_LTD|Cheque_count_LTD|Bank_count_LTD|row_number|\n",
            "+--------------------+--------+---------------+--------+------------------+---------+------+------+-----------+--------------+-----------+-----------+-------------+----------------+-------------+-------------+-----------+--------------+-----------+-----------+-----------+--------------+-----------+-----------+---------------+------------------+---------------+---------------+---------------+---------------+--------------+----------------+--------------+----------+\n",
            "|6db7af0c5dca3b333...|  100000|         Cheque| 2011-12|   Sweta Chyouksey|        Y|   BJP|Others|          0|             0|          0|     325000|            0|               0|            0|            4|        0.0|           0.0|        0.0|    81250.0|          0|             0|          0|     100000|              0|                 0|              0|              0|         300000|          25000|             0|               3|             0|         1|\n",
            "|5a3058deb6f337958...| 3000000|           Cash| 2010-11|        Aziz Pasha|        Y|   CPI|Others|    3000000|             0|          0|          0|            1|               0|            0|            0|  3000000.0|           0.0|        0.0|        0.0|    3000000|             0|          0|          0|        3000000|                 0|              0|              0|              0|              0|             1|               0|             0|         1|\n",
            "|846539cb21bc9e6c6...|10000000|         Cheque| 2014-15|  V K Ramachandran|        Y|CPI(M)|Others|    3000000|      10000000|          0|          0|            1|               1|            0|            0|  3000000.0|         1.0E7|        0.0|        0.0|    3000000|      10000000|          0|          0|        3000000|          10000000|              0|              0|              0|              0|             0|               3|             0|         1|\n",
            "|869fa3a19f1c51ad1...|  108000|         Cheque| 2014-15|Dr. Manmohan Singh|        N|   INC|Others|          0|             0|     216000|          0|            0|               0|            3|            0|        0.0|           0.0|    72000.0|        0.0|          0|             0|     108000|          0|              0|                 0|         108000|         108000|              0|              0|             0|               3|             0|         1|\n",
            "+--------------------+--------+---------------+--------+------------------+---------+------+------+-----------+--------------+-----------+-----------+-------------+----------------+-------------+-------------+-----------+--------------+-----------+-----------+-----------+--------------+-----------+-----------+---------------+------------------+---------------+---------------+---------------+---------------+--------------+----------------+--------------+----------+\n",
            "\n"
          ]
        }
      ]
    }
  ]
}